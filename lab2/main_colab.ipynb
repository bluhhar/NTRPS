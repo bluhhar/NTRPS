{
  "cells": [
    {
      "cell_type": "markdown",
      "metadata": {
        "id": "MAvRb_xH_cNt"
      },
      "source": [
        "Импорты"
      ]
    },
    {
      "cell_type": "code",
      "execution_count": 18,
      "metadata": {
        "id": "V5hPmSr2-I6W"
      },
      "outputs": [],
      "source": [
        "import os\n",
        "import requests\n",
        "import re\n",
        "import csv\n",
        "import pandas as pd\n",
        "\n",
        "from bs4 import BeautifulSoup\n",
        "from datetime import datetime\n",
        "from google.colab import drive"
      ]
    },
    {
      "cell_type": "code",
      "execution_count": 19,
      "metadata": {
        "colab": {
          "base_uri": "https://localhost:8080/"
        },
        "id": "0Ry2KnJ_A8v9",
        "outputId": "bb52db41-92ae-48c1-ed07-1ceac36f48cc"
      },
      "outputs": [
        {
          "output_type": "stream",
          "name": "stdout",
          "text": [
            "Drive already mounted at /content/drive; to attempt to forcibly remount, call drive.mount(\"/content/drive\", force_remount=True).\n"
          ]
        }
      ],
      "source": [
        "drive.mount('/content/drive')"
      ]
    },
    {
      "cell_type": "markdown",
      "metadata": {
        "id": "7FwXAlf3Bgfr"
      },
      "source": [
        "Константы"
      ]
    },
    {
      "cell_type": "code",
      "execution_count": 20,
      "metadata": {
        "id": "oJ8Fzb6IBiIr"
      },
      "outputs": [],
      "source": [
        "CURR_DIR = '/content/drive/MyDrive/lab2_ntrps'"
      ]
    },
    {
      "cell_type": "markdown",
      "metadata": {
        "id": "wpGoQwYF_khT"
      },
      "source": [
        "Функции"
      ]
    },
    {
      "cell_type": "markdown",
      "metadata": {
        "id": "ZssMDW5r_mKX"
      },
      "source": [
        "Проверка наличия репозиториев датасета"
      ]
    },
    {
      "cell_type": "code",
      "execution_count": 21,
      "metadata": {
        "id": "GCJyL5HSB4Np"
      },
      "outputs": [],
      "source": [
        "def check_repository(dir: str, name: str) -> None:\n",
        "    dataset_directory = os.path.join(dir, name)\n",
        "    if not os.path.exists(dataset_directory):\n",
        "        os.makedirs(dataset_directory)\n",
        "    return dataset_directory"
      ]
    },
    {
      "cell_type": "markdown",
      "metadata": {
        "id": "UZuxYTT3CbNP"
      },
      "source": [
        "Парсер ссылки на картинку"
      ]
    },
    {
      "cell_type": "code",
      "execution_count": 22,
      "metadata": {
        "id": "ZSLgfEpqCcF5"
      },
      "outputs": [],
      "source": [
        "def parser_url(url: str) -> str:\n",
        "    pattern = r'img_url=([^&]+)&text='\n",
        "    match = re.search(pattern, url)\n",
        "\n",
        "    if match:\n",
        "        img_url_encoded = match.group(1)\n",
        "        img_url_decoded = img_url_encoded.replace('%2F', '/').replace('%3A', ':')\n",
        "        return img_url_decoded\n",
        "    else:\n",
        "        print('Ссылка после img_url не найдена в URL')"
      ]
    },
    {
      "cell_type": "markdown",
      "metadata": {
        "id": "nFyDChj4CdLH"
      },
      "source": [
        "Вычисления необходимого количества страниц для скачивания (1 страница = 30 картинкам)"
      ]
    },
    {
      "cell_type": "code",
      "execution_count": 23,
      "metadata": {
        "id": "TpD2k1kaCeYR"
      },
      "outputs": [],
      "source": [
        "def calc_pages(num_images: int) -> int:\n",
        "    return num_images // 30 + (num_images % 30 > 0) if num_images > 30 else 1"
      ]
    },
    {
      "cell_type": "markdown",
      "metadata": {
        "id": "LMxodLbICfLU"
      },
      "source": [
        "Получение HTML тегов"
      ]
    },
    {
      "cell_type": "code",
      "execution_count": 24,
      "metadata": {
        "id": "ZbJcpvz_Cgcg"
      },
      "outputs": [],
      "source": [
        "def get_html_tags(mini_images: bool) -> tuple[str, str, str]:\n",
        "    if mini_images:\n",
        "        return 'img', 'serp-item__thumb', 'src'\n",
        "    else:\n",
        "        return 'a', 'serp-item__link', 'href'"
      ]
    },
    {
      "cell_type": "markdown",
      "metadata": {
        "id": "uL_fsAesYq8l"
      },
      "source": [
        "Запись в CSV"
      ]
    },
    {
      "cell_type": "code",
      "execution_count": 25,
      "metadata": {
        "id": "RTDNReIZYsKh"
      },
      "outputs": [],
      "source": [
        "def write_csv_file(path: str, data: list) -> None:\n",
        "    mode = 'w' if not os.path.exists(path) else 'a'\n",
        "    with open(path, mode, newline='') as csv_file:\n",
        "      csv_writer = csv.writer(csv_file)\n",
        "      csv_writer.writerow(data)"
      ]
    },
    {
      "cell_type": "markdown",
      "metadata": {
        "id": "apMvV1tFChlX"
      },
      "source": [
        "Закачка картинок"
      ]
    },
    {
      "cell_type": "code",
      "execution_count": 26,
      "metadata": {
        "id": "0th9304rCiyS"
      },
      "outputs": [],
      "source": [
        "def download_image(url: str, save_path: str) -> bool:\n",
        "    try:\n",
        "        response = requests.get(url, headers={'User-Agent':'Mozilla/5.0'}, stream=True)\n",
        "        if(response.status_code == 200):\n",
        "            with open(save_path, 'wb') as file:\n",
        "                for chunk in response.iter_content(1024):\n",
        "                    file.write(chunk)\n",
        "            return True\n",
        "        else:\n",
        "            print(f'Не удалось загрузить изображение: {url}')\n",
        "            return False\n",
        "    except Exception as e:\n",
        "        print(f'Ошибка при загрузке изображения: {url}')\n",
        "        return False"
      ]
    },
    {
      "cell_type": "code",
      "execution_count": 27,
      "metadata": {
        "id": "a3XH3qw7Cjyf"
      },
      "outputs": [],
      "source": [
        "def download_images(query: str, num_images: int, mini_images: bool = False) -> None:\n",
        "    pages = calc_pages(num_images)\n",
        "    class_folder = check_repository(CURR_DIR, f'dataset/{query}')\n",
        "\n",
        "    downloaded_count = 0\n",
        "\n",
        "    base_url = 'https:'\n",
        "\n",
        "    csv_file_path = CURR_DIR + '/csv/' + f'{query}_dataset.csv'\n",
        "\n",
        "    #а вот это чтобы без движков было, грузим странички\n",
        "    for page in range(0, pages):\n",
        "        search_url = f'https://yandex.ru/images/search?text={query}&p={page}'\n",
        "\n",
        "        write_csv_file(csv_file_path, ['date', 'file_name', 'url'])\n",
        "\n",
        "        #сделал с with для автоматического закрытия соединения\n",
        "        with requests.get(search_url, headers={'User-Agent':'Mozilla/5.0'}) as response:\n",
        "            soup = BeautifulSoup(response.text, 'html.parser')\n",
        "\n",
        "            tag, tag_class, tag_source = get_html_tags(mini_images)\n",
        "\n",
        "            for a in soup.find_all(tag, class_=tag_class):\n",
        "                img_url = a[tag_source]\n",
        "                # получаем полный URL изображения\n",
        "                if mini_images and not img_url.startswith('http'):\n",
        "                    img_url = base_url + img_url\n",
        "                elif img_url.startswith('/images'):\n",
        "                    img_url = parser_url(img_url)\n",
        "\n",
        "                #csv_image_filename = image_filename\n",
        "                image_filename = f'{downloaded_count:04d}.jpg'\n",
        "                image_path = os.path.join(class_folder, image_filename)\n",
        "                if(download_image(img_url, image_path)):\n",
        "                    downloaded_count += 1\n",
        "                    print(f\"Загружено изображений для {query}: {downloaded_count}/{num_images}\")\n",
        "\n",
        "                    write_csv_file(csv_file_path, [datetime.now().strftime('%Y-%m-%d'), image_filename, img_url])\n",
        "\n",
        "                if(downloaded_count >= num_images):\n",
        "                    break"
      ]
    },
    {
      "cell_type": "markdown",
      "source": [
        "Pandas()"
      ],
      "metadata": {
        "id": "6BFKf17IK05u"
      }
    },
    {
      "cell_type": "markdown",
      "source": [
        "Разделяет даты и данные"
      ],
      "metadata": {
        "id": "SVM0s9ZIOfs1"
      }
    },
    {
      "cell_type": "code",
      "source": [
        "def c(file_path: str) -> None:\n",
        "    df = pd.read_csv(file_path)\n",
        "\n",
        "    df_date = df['date']\n",
        "    df_data = df.drop('date', axis=1)\n",
        "\n",
        "    df_date.to_csv(CURR_DIR + '/X.csv', index=False)\n",
        "    df_data.to_csv(CURR_DIR + '/Y.csv', index=False)"
      ],
      "metadata": {
        "id": "AZBJwZs-K2kb"
      },
      "execution_count": 38,
      "outputs": []
    },
    {
      "cell_type": "markdown",
      "source": [
        "Разделение по годам"
      ],
      "metadata": {
        "id": "72mn5l5cOh5H"
      }
    },
    {
      "cell_type": "code",
      "source": [
        "def f(file_path: str) -> None:\n",
        "    df = pd.read_csv(file_path)\n",
        "    df['date'] = pd.to_datetime(df['date'])\n",
        "\n",
        "    for year, group in df.groupby(df['date'].dt.year):\n",
        "        start_date = group['date'].min().strftime('%Y%m%d')\n",
        "        end_date = group['date'].max().strftime('%Y%m%d')\n",
        "        filename = f'{start_date}_{end_date}.csv'\n",
        "        group.to_csv(CURR_DIR + '/' + filename, index=False)"
      ],
      "metadata": {
        "id": "Njm_SUbxOe5M"
      },
      "execution_count": 43,
      "outputs": []
    },
    {
      "cell_type": "markdown",
      "source": [
        "Разделение по неделям"
      ],
      "metadata": {
        "id": "DxL8J4LwUrYL"
      }
    },
    {
      "cell_type": "code",
      "source": [
        "def h(file_path: str) -> None:\n",
        "    df = pd.read_csv(file_path)\n",
        "    df['date'] = pd.to_datetime(df['date'])\n",
        "\n",
        "    #вылазиет предупреждение в мейне вот как советует использовать данный цикл сам пандас (из-за устаревшей версии)\n",
        "    #FutureWarning: Series.dt.weekofyear and Series.dt.week have been deprecated. Please use Series.dt.isocalendar().week instead.\n",
        "    #for (year, week), group in df.groupby([df['date'].dt.isocalendar().year, df['date'].dt.isocalendar().week]):\n",
        "    for (year, week), group in df.groupby([df['date'].dt.year, df['date'].dt.week]):\n",
        "        start_date = group['date'].min().strftime('%Y%m%d')\n",
        "        end_date = group['date'].max().strftime('%Y%m%d')\n",
        "        filename = f'{start_date}_{end_date}.csv'\n",
        "        group.to_csv(CURR_DIR + '/' + filename, index=False)"
      ],
      "metadata": {
        "id": "KrnXcu3HUszH"
      },
      "execution_count": 48,
      "outputs": []
    },
    {
      "cell_type": "markdown",
      "source": [
        "4 пункт"
      ],
      "metadata": {
        "id": "FRP8FulA0bvf"
      }
    },
    {
      "cell_type": "code",
      "source": [
        "def get_data(df: pd.DataFrame, date: datetime) -> None | pd.DataFrame:\n",
        "    data = df[df['date'] == date]\n",
        "    if data.empty:\n",
        "        return None\n",
        "    else:\n",
        "        return data.drop(columns=['date'])"
      ],
      "metadata": {
        "id": "3V7VBC310DMZ"
      },
      "execution_count": 87,
      "outputs": []
    },
    {
      "cell_type": "code",
      "source": [
        "def next(df: pd.DataFrame, index: int) -> None | tuple[str, str, str]:\n",
        "    if index < len(df):\n",
        "        return tuple(df.loc[index, ['date', 'file_name', 'url']])\n",
        "    return None"
      ],
      "metadata": {
        "id": "VtuscwY2_Soe"
      },
      "execution_count": 108,
      "outputs": []
    },
    {
      "cell_type": "markdown",
      "metadata": {
        "id": "qeDOnoB1ClnD"
      },
      "source": [
        "main()"
      ]
    },
    {
      "cell_type": "code",
      "execution_count": 119,
      "metadata": {
        "id": "rjc4E0-YCmto"
      },
      "outputs": [],
      "source": [
        "def main():\n",
        "    #check_repository(CURR_DIR, 'dataset')\n",
        "    #check_repository(CURR_DIR, 'csv')\n",
        "    #download_images('polar bear', 5, False)\n",
        "    #download_images('brown bear', 5, False)\n",
        "\n",
        "    #c(CURR_DIR + '/csv/brown bear_dataset.csv')\n",
        "    #f(CURR_DIR + '/csv/test_dataset.csv')\n",
        "    #h(CURR_DIR + '/csv/test_weeks_dataset.csv')\n",
        "\n",
        "    df = pd.read_csv(CURR_DIR + '/csv/test_weeks_dataset_iso.csv', parse_dates=['date'])\n",
        "\n",
        "    #print(get_data(df, datetime(2023, 1, 24)))\n",
        "\n",
        "    #for index in range(0, len(df)):\n",
        "    #    print(next(df, index))"
      ]
    },
    {
      "cell_type": "code",
      "execution_count": 121,
      "metadata": {
        "colab": {
          "base_uri": "https://localhost:8080/"
        },
        "id": "d-Vk5Zn0Cnoc",
        "outputId": "eb30f747-cfcc-4b76-f253-f32533eb38f9"
      },
      "outputs": [
        {
          "output_type": "stream",
          "name": "stdout",
          "text": [
            "(Timestamp('2023-01-02 00:00:00'), '0000.jpg', 'https://kipmu.ru/wp-content/uploads/sagzh.jpg')\n",
            "(Timestamp('2023-01-03 00:00:00'), '0001.jpg', 'https://my-pet.store/wp-content/uploads/2019/07/431563-Kycb.jpg')\n",
            "(Timestamp('2023-01-09 00:00:00'), '0001.jpg', 'https://my-pet.store/wp-content/uploads/2019/07/431563-Kycb.jpg')\n",
            "(Timestamp('2023-01-10 00:00:00'), '0003.jpg', 'https://i.pinimg.com/originals/01/28/69/0128693ea8ac80ee4f120e4faf8401c9.jpg')\n",
            "(Timestamp('2023-01-16 00:00:00'), '0002.jpg', 'https://wallpapersgood.ru/wallpapers/main2/201730/buryj-medved.jpg')\n",
            "(Timestamp('2023-01-17 00:00:00'), '0000.jpg', 'https://kipmu.ru/wp-content/uploads/sagzh.jpg')\n",
            "(Timestamp('2023-01-23 00:00:00'), '0003.jpg', 'https://i.pinimg.com/originals/01/28/69/0128693ea8ac80ee4f120e4faf8401c9.jpg')\n",
            "(Timestamp('2023-01-24 00:00:00'), '0002.jpg', 'https://wallpapersgood.ru/wallpapers/main2/201730/buryj-medved.jpg')\n",
            "(Timestamp('2023-01-30 00:00:00'), '0004.jpg', 'http://novikovnn.ru/wp-content/uploads/4/4/6/4462dd9554f476bf6b690a5472c4ae82.jpeg')\n",
            "(Timestamp('2023-01-31 00:00:00'), '0004.jpg', 'http://novikovnn.ru/wp-content/uploads/4/4/6/4462dd9554f476bf6b690a5472c4ae82.jpeg')\n",
            "(Timestamp('2023-02-05 00:00:00'), '0000.jpg', 'https://kipmu.ru/wp-content/uploads/sagzh.jpg')\n",
            "(Timestamp('2023-02-06 00:00:00'), '0000.jpg', 'https://kipmu.ru/wp-content/uploads/sagzh.jpg')\n",
            "(Timestamp('2023-02-10 00:00:00'), '0000.jpg', 'https://kipmu.ru/wp-content/uploads/sagzh.jpg')\n",
            "(Timestamp('2023-02-13 00:00:00'), '0001.jpg', 'https://my-pet.store/wp-content/uploads/2019/07/431563-Kycb.jpg')\n",
            "(Timestamp('2023-02-20 00:00:00'), '0002.jpg', 'https://wallpapersgood.ru/wallpapers/main2/201730/buryj-medved.jpg')\n",
            "(Timestamp('2023-02-24 00:00:00'), '0002.jpg', 'https://wallpapersgood.ru/wallpapers/main2/201730/buryj-medved.jpg')\n",
            "(Timestamp('2023-02-27 00:00:00'), '0003.jpg', 'https://i.pinimg.com/originals/01/28/69/0128693ea8ac80ee4f120e4faf8401c9.jpg')\n"
          ]
        }
      ],
      "source": [
        "if __name__ == '__main__':\n",
        "    main()"
      ]
    }
  ],
  "metadata": {
    "colab": {
      "provenance": []
    },
    "kernelspec": {
      "display_name": "Python 3",
      "name": "python3"
    },
    "language_info": {
      "name": "python"
    }
  },
  "nbformat": 4,
  "nbformat_minor": 0
}