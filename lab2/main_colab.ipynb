{
  "cells": [
    {
      "cell_type": "markdown",
      "metadata": {
        "id": "MAvRb_xH_cNt"
      },
      "source": [
        "Импорты"
      ]
    },
    {
      "cell_type": "code",
      "execution_count": 3,
      "metadata": {
        "id": "V5hPmSr2-I6W"
      },
      "outputs": [],
      "source": [
        "import os\n",
        "import requests\n",
        "import re\n",
        "import csv\n",
        "import pandas as pd\n",
        "\n",
        "from bs4 import BeautifulSoup\n",
        "from datetime import datetime\n",
        "from google.colab import drive"
      ]
    },
    {
      "cell_type": "code",
      "execution_count": 4,
      "metadata": {
        "colab": {
          "base_uri": "https://localhost:8080/"
        },
        "id": "0Ry2KnJ_A8v9",
        "outputId": "3c64661d-971f-4ba8-be18-9e0da6ffc75f"
      },
      "outputs": [
        {
          "output_type": "stream",
          "name": "stdout",
          "text": [
            "Mounted at /content/drive\n"
          ]
        }
      ],
      "source": [
        "drive.mount('/content/drive')"
      ]
    },
    {
      "cell_type": "markdown",
      "metadata": {
        "id": "7FwXAlf3Bgfr"
      },
      "source": [
        "Константы"
      ]
    },
    {
      "cell_type": "code",
      "execution_count": 30,
      "metadata": {
        "id": "oJ8Fzb6IBiIr"
      },
      "outputs": [],
      "source": [
        "CURR_DIR = '/content/drive/MyDrive/lab2_ntrps'\n",
        "\n",
        "#в каждом из датасетов присутствует поле date, остальные поля различаются\n",
        "iMAGES_FIELDS = ['date', 'file_name', 'url']\n",
        "NUMBER_FIELDS = ['date', ]\n",
        "TEXT_FIELDS = ['date', ]"
      ]
    },
    {
      "cell_type": "markdown",
      "metadata": {
        "id": "wpGoQwYF_khT"
      },
      "source": [
        "Функции"
      ]
    },
    {
      "cell_type": "markdown",
      "metadata": {
        "id": "ZssMDW5r_mKX"
      },
      "source": [
        "Проверка наличия репозиториев датасета"
      ]
    },
    {
      "cell_type": "code",
      "execution_count": 6,
      "metadata": {
        "id": "GCJyL5HSB4Np"
      },
      "outputs": [],
      "source": [
        "def check_repository(dir: str, name: str) -> None:\n",
        "    dataset_directory = os.path.join(dir, name)\n",
        "    if not os.path.exists(dataset_directory):\n",
        "        os.makedirs(dataset_directory)\n",
        "    return dataset_directory"
      ]
    },
    {
      "cell_type": "markdown",
      "metadata": {
        "id": "UZuxYTT3CbNP"
      },
      "source": [
        "Парсер ссылки на картинку"
      ]
    },
    {
      "cell_type": "code",
      "execution_count": 7,
      "metadata": {
        "id": "ZSLgfEpqCcF5"
      },
      "outputs": [],
      "source": [
        "def parser_url(url: str) -> str:\n",
        "    pattern = r'img_url=([^&]+)&text='\n",
        "    match = re.search(pattern, url)\n",
        "\n",
        "    if match:\n",
        "        img_url_encoded = match.group(1)\n",
        "        img_url_decoded = img_url_encoded.replace('%2F', '/').replace('%3A', ':')\n",
        "        return img_url_decoded\n",
        "    else:\n",
        "        print('Ошибка: Ссылка после img_url не найдена в URL')"
      ]
    },
    {
      "cell_type": "markdown",
      "metadata": {
        "id": "nFyDChj4CdLH"
      },
      "source": [
        "Вычисления необходимого количества страниц для скачивания (1 страница = 30 картинкам)"
      ]
    },
    {
      "cell_type": "code",
      "execution_count": 8,
      "metadata": {
        "id": "TpD2k1kaCeYR"
      },
      "outputs": [],
      "source": [
        "def calc_pages(num_images: int) -> int:\n",
        "    return num_images // 30 + (num_images % 30 > 0) if num_images > 30 else 1"
      ]
    },
    {
      "cell_type": "markdown",
      "metadata": {
        "id": "LMxodLbICfLU"
      },
      "source": [
        "Получение HTML тегов"
      ]
    },
    {
      "cell_type": "code",
      "execution_count": 9,
      "metadata": {
        "id": "ZbJcpvz_Cgcg"
      },
      "outputs": [],
      "source": [
        "def get_html_tags(mini_images: bool) -> tuple[str, str, str]:\n",
        "    if mini_images:\n",
        "        return 'img', 'serp-item__thumb', 'src'\n",
        "    else:\n",
        "        return 'a', 'serp-item__link', 'href'"
      ]
    },
    {
      "cell_type": "markdown",
      "metadata": {
        "id": "uL_fsAesYq8l"
      },
      "source": [
        "Запись в CSV"
      ]
    },
    {
      "cell_type": "code",
      "execution_count": 10,
      "metadata": {
        "id": "RTDNReIZYsKh"
      },
      "outputs": [],
      "source": [
        "def write_csv_file(path: str, data: list) -> None:\n",
        "    mode = 'w' if not os.path.exists(path) else 'a'\n",
        "    with open(path, mode, newline='') as csv_file:\n",
        "      csv_writer = csv.writer(csv_file)\n",
        "      csv_writer.writerow(data)"
      ]
    },
    {
      "cell_type": "markdown",
      "metadata": {
        "id": "apMvV1tFChlX"
      },
      "source": [
        "Закачка картинок"
      ]
    },
    {
      "cell_type": "code",
      "execution_count": 11,
      "metadata": {
        "id": "0th9304rCiyS"
      },
      "outputs": [],
      "source": [
        "def download_image(url: str, save_path: str) -> bool:\n",
        "    try:\n",
        "        response = requests.get(url, headers={'User-Agent':'Mozilla/5.0'}, stream=True)\n",
        "        if(response.status_code == 200):\n",
        "            with open(save_path, 'wb') as file:\n",
        "                for chunk in response.iter_content(1024):\n",
        "                    file.write(chunk)\n",
        "            return True\n",
        "        else:\n",
        "            print(f'Ошибка: Не удалось загрузить изображение: {url}')\n",
        "            return False\n",
        "    except Exception as e:\n",
        "        print(f'Ошибка при загрузке изображения: {url}')\n",
        "        return False"
      ]
    },
    {
      "cell_type": "code",
      "execution_count": 12,
      "metadata": {
        "id": "a3XH3qw7Cjyf"
      },
      "outputs": [],
      "source": [
        "def download_images(query: str, num_images: int, mini_images: bool = False) -> None:\n",
        "    pages = calc_pages(num_images)\n",
        "    class_folder = check_repository(CURR_DIR, f'dataset/{query}')\n",
        "\n",
        "    downloaded_count = 0\n",
        "\n",
        "    base_url = 'https:'\n",
        "\n",
        "    csv_file_path = CURR_DIR + '/csv/' + f'{query}_dataset.csv'\n",
        "\n",
        "    #а вот это чтобы без движков было, грузим странички\n",
        "    for page in range(0, pages):\n",
        "        search_url = f'https://yandex.ru/images/search?text={query}&p={page}'\n",
        "\n",
        "        write_csv_file(csv_file_path, ['date', 'file_name', 'url'])\n",
        "\n",
        "        #сделал с with для автоматического закрытия соединения\n",
        "        with requests.get(search_url, headers={'User-Agent':'Mozilla/5.0'}) as response:\n",
        "            soup = BeautifulSoup(response.text, 'html.parser')\n",
        "\n",
        "            tag, tag_class, tag_source = get_html_tags(mini_images)\n",
        "\n",
        "            for a in soup.find_all(tag, class_=tag_class):\n",
        "                img_url = a[tag_source]\n",
        "                # получаем полный URL изображения\n",
        "                if mini_images and not img_url.startswith('http'):\n",
        "                    img_url = base_url + img_url\n",
        "                elif img_url.startswith('/images'):\n",
        "                    img_url = parser_url(img_url)\n",
        "\n",
        "                #csv_image_filename = image_filename\n",
        "                image_filename = f'{downloaded_count:04d}.jpg'\n",
        "                image_path = os.path.join(class_folder, image_filename)\n",
        "                if(download_image(img_url, image_path)):\n",
        "                    downloaded_count += 1\n",
        "                    print(f'Загружено изображений для {query}: {downloaded_count}/{num_images}')\n",
        "\n",
        "                    write_csv_file(csv_file_path, [datetime.now().strftime('%Y-%m-%d'), image_filename, img_url])\n",
        "\n",
        "                if(downloaded_count >= num_images):\n",
        "                    break"
      ]
    },
    {
      "cell_type": "markdown",
      "source": [
        "Pandas()"
      ],
      "metadata": {
        "id": "6BFKf17IK05u"
      }
    },
    {
      "cell_type": "code",
      "source": [
        "def check_dataset(df: pd.DataFrame, required_fields: list) -> bool:\n",
        "    for field in required_fields:\n",
        "        if field not in df.columns:\n",
        "            return False\n",
        "    return True"
      ],
      "metadata": {
        "id": "FYo5WOL74Mnf"
      },
      "execution_count": 13,
      "outputs": []
    },
    {
      "cell_type": "code",
      "source": [
        "def create_dataset_from_files(files: list) -> pd.DataFrame:\n",
        "    df = pd.DataFrame()\n",
        "    for file in files:\n",
        "        data = pd.read_csv(file)\n",
        "        if check_dataset(data, ['date', 'file_name', 'url']):\n",
        "            data['date'] = pd.to_datetime(data['date'])\n",
        "            df = df.append(data, ignore_index=True)\n",
        "        else:\n",
        "            print(f'Ошибка: Файл {file} не содержит необходимых полей')\n",
        "        #FutureWarning: The frame.append method is deprecated and will be removed from pandas in a future version. Use pandas.concat instead.\n",
        "        #df = df.append(data, ignore_index=True) --> менять на df = df.append(data)\n",
        "        #df = pd.concat(df_list, ignore_index=True) добавлять в данную строчку (просто раскомменитить)\n",
        "    return df"
      ],
      "metadata": {
        "id": "KlTsXoeGf7eI"
      },
      "execution_count": 14,
      "outputs": []
    },
    {
      "cell_type": "markdown",
      "source": [
        "Разделяет даты и данные"
      ],
      "metadata": {
        "id": "SVM0s9ZIOfs1"
      }
    },
    {
      "cell_type": "code",
      "source": [
        "def separation_date_by_data(df: pd.DataFrame) -> None:\n",
        "    df_date = df['date']\n",
        "    df_data = df.drop('date', axis=1)\n",
        "\n",
        "    df_date.to_csv(CURR_DIR + '/csv/csv_date_by_data/X.csv', index=False)\n",
        "    df_data.to_csv(CURR_DIR + '/csv/csv_date_by_data/Y.csv', index=False)"
      ],
      "metadata": {
        "id": "AZBJwZs-K2kb"
      },
      "execution_count": 15,
      "outputs": []
    },
    {
      "cell_type": "markdown",
      "source": [
        "Разделение по годам"
      ],
      "metadata": {
        "id": "72mn5l5cOh5H"
      }
    },
    {
      "cell_type": "code",
      "source": [
        "def separation_by_years(df: pd.DataFrame) -> None:\n",
        "    df['date'] = pd.to_datetime(df['date'])\n",
        "\n",
        "    for year, group in df.groupby(df['date'].dt.year):\n",
        "        start_date = group['date'].min().strftime('%Y%m%d')\n",
        "        end_date = group['date'].max().strftime('%Y%m%d')\n",
        "        filename = f'{start_date}_{end_date}.csv'\n",
        "        group.to_csv(CURR_DIR + '/csv/csv_years/' + filename, index=False)"
      ],
      "metadata": {
        "id": "Njm_SUbxOe5M"
      },
      "execution_count": 16,
      "outputs": []
    },
    {
      "cell_type": "markdown",
      "source": [
        "Разделение по неделям"
      ],
      "metadata": {
        "id": "DxL8J4LwUrYL"
      }
    },
    {
      "cell_type": "code",
      "source": [
        "def separation_by_weeks(df: pd.DataFrame) -> None:\n",
        "    df['date'] = pd.to_datetime(df['date'])\n",
        "\n",
        "    #вылазиет предупреждение вот как советует использовать данный цикл сам пандас (из-за устаревшей версии)\n",
        "    #FutureWarning: Series.dt.weekofyear and Series.dt.week have been deprecated. Please use Series.dt.isocalendar().week instead.\n",
        "    #for (year, week), group in df.groupby([df['date'].dt.isocalendar().year, df['date'].dt.isocalendar().week]):\n",
        "    for (year, week), group in df.groupby([df['date'].dt.year, df['date'].dt.week]):\n",
        "        start_date = group['date'].min().strftime('%Y%m%d')\n",
        "        end_date = group['date'].max().strftime('%Y%m%d')\n",
        "        filename = f'{start_date}_{end_date}.csv'\n",
        "        group.to_csv(CURR_DIR + '/csv/csv_weeks/' + filename, index=False)"
      ],
      "metadata": {
        "id": "KrnXcu3HUszH"
      },
      "execution_count": 17,
      "outputs": []
    },
    {
      "cell_type": "markdown",
      "source": [
        "4 пункт"
      ],
      "metadata": {
        "id": "FRP8FulA0bvf"
      }
    },
    {
      "cell_type": "code",
      "source": [
        "def get_data_from_date(df: pd.DataFrame, date: datetime) -> None | pd.DataFrame:\n",
        "    data = df[df['date'] == date]\n",
        "    if data.empty:\n",
        "        return None\n",
        "    else:\n",
        "        return data.drop(columns=['date'])"
      ],
      "metadata": {
        "id": "3V7VBC310DMZ"
      },
      "execution_count": 18,
      "outputs": []
    },
    {
      "cell_type": "code",
      "source": [
        "def next(df: pd.DataFrame, index: int) -> None | tuple[str, str, str]:\n",
        "    if index < len(df):\n",
        "        return tuple(df.loc[index, ['date', 'file_name', 'url']])\n",
        "    return None"
      ],
      "metadata": {
        "id": "VtuscwY2_Soe"
      },
      "execution_count": 19,
      "outputs": []
    },
    {
      "cell_type": "markdown",
      "source": [
        "Итератор"
      ],
      "metadata": {
        "id": "us6l1kMadKJC"
      }
    },
    {
      "cell_type": "code",
      "source": [
        "class DataIterator:\n",
        "    def __init__(self, df: pd.DataFrame):\n",
        "        self.df = df\n",
        "        self.counter = 0\n",
        "\n",
        "    def __iter__(self):\n",
        "        return self\n",
        "\n",
        "    def __next__(self):\n",
        "        if self.counter < len(self.df):\n",
        "            result = tuple(self.df.loc[self.counter, ['date', 'file_name', 'url']])\n",
        "            self.counter += 1\n",
        "            return result\n",
        "        else:\n",
        "            raise StopIteration"
      ],
      "metadata": {
        "id": "lkVRaTTackkO"
      },
      "execution_count": 20,
      "outputs": []
    },
    {
      "cell_type": "markdown",
      "source": [
        "тести функции по перезапии данных"
      ],
      "metadata": {
        "id": "SlKAX2wbcUtE"
      }
    },
    {
      "cell_type": "code",
      "source": [
        "def rewrite_dates(df: pd.DataFrame, start_date: datetime) -> pd.DataFrame:\n",
        "    df['date'] = [start_date + pd.DateOffset(days=i) for i in range(len(df))]\n",
        "    return df"
      ],
      "metadata": {
        "id": "SavobZlDaQbd"
      },
      "execution_count": 26,
      "outputs": []
    },
    {
      "cell_type": "code",
      "source": [
        "def save_new_dataset(df: pd.DataFrame, file_to_save: str, index_custom: bool = False) -> None:\n",
        "    df.to_csv(file_to_save, index=index_custom)"
      ],
      "metadata": {
        "id": "OI9leM3Ma7Rv"
      },
      "execution_count": 27,
      "outputs": []
    },
    {
      "cell_type": "markdown",
      "metadata": {
        "id": "qeDOnoB1ClnD"
      },
      "source": [
        "main()"
      ]
    },
    {
      "cell_type": "code",
      "execution_count": 28,
      "metadata": {
        "id": "rjc4E0-YCmto"
      },
      "outputs": [],
      "source": [
        "def main():\n",
        "    #check_repository(CURR_DIR, 'dataset')\n",
        "    #check_repository(CURR_DIR, 'csv')\n",
        "    #download_images('polar bear', 200, True)\n",
        "    #download_images('brown bear', 5, False)\n",
        "\n",
        "    df = create_dataset_from_files([CURR_DIR + '/csv/brown bear_dataset.csv'])\n",
        "    print(df)\n",
        "    rewrite_dates(df, datetime(2023, 1, 1))\n",
        "    print(df)\n",
        "\n",
        "    #df = create_dataset_from_files([CURR_DIR + '/csv/test_weeks_dataset.csv']) #CURR_DIR + '/csv/brown bear_dataset.csv'\n",
        "    #check_repository(CURR_DIR, 'csv/csv_date_by_data')\n",
        "    #separation_date_by_data(df)\n",
        "    #check_repository(CURR_DIR, 'csv/csv_years')\n",
        "    #separation_by_years(df)\n",
        "    #check_repository(CURR_DIR, 'csv/csv_weeks')\n",
        "    #separation_by_weeks(df)\n",
        "\n",
        "    #print('---Получение данных по определенной дате---')\n",
        "    #print(get_data_from_date(df, datetime(2023, 1, 24)))\n",
        "\n",
        "    #print('---Работа next()---')\n",
        "    #for index in range(0, len(df)):\n",
        "    #    print(next(df, index))\n",
        "\n",
        "    #print('---Работа итератора---')\n",
        "    #iterator = DataIterator(df)\n",
        "    #for item in iterator:\n",
        "    #    print(item)"
      ]
    },
    {
      "cell_type": "code",
      "execution_count": 29,
      "metadata": {
        "colab": {
          "base_uri": "https://localhost:8080/"
        },
        "id": "d-Vk5Zn0Cnoc",
        "outputId": "fa13968d-c136-4142-b1ab-dd4ee7898869"
      },
      "outputs": [
        {
          "output_type": "stream",
          "name": "stdout",
          "text": [
            "        date file_name                                                url\n",
            "0 2023-09-27  0000.jpg      https://kipmu.ru/wp-content/uploads/sagzh.jpg\n",
            "1 2023-09-27  0001.jpg  https://my-pet.store/wp-content/uploads/2019/0...\n",
            "2 2023-09-27  0002.jpg  https://wallpapersgood.ru/wallpapers/main2/201...\n",
            "3 2023-09-27  0003.jpg  https://i.pinimg.com/originals/01/28/69/012869...\n",
            "4 2023-09-27  0004.jpg  http://novikovnn.ru/wp-content/uploads/4/4/6/4...\n",
            "        date file_name                                                url\n",
            "0 2023-01-01  0000.jpg      https://kipmu.ru/wp-content/uploads/sagzh.jpg\n",
            "1 2023-01-02  0001.jpg  https://my-pet.store/wp-content/uploads/2019/0...\n",
            "2 2023-01-03  0002.jpg  https://wallpapersgood.ru/wallpapers/main2/201...\n",
            "3 2023-01-04  0003.jpg  https://i.pinimg.com/originals/01/28/69/012869...\n",
            "4 2023-01-05  0004.jpg  http://novikovnn.ru/wp-content/uploads/4/4/6/4...\n"
          ]
        },
        {
          "output_type": "stream",
          "name": "stderr",
          "text": [
            "<ipython-input-14-27864e39831f>:7: FutureWarning: The frame.append method is deprecated and will be removed from pandas in a future version. Use pandas.concat instead.\n",
            "  df = df.append(data, ignore_index=True)\n"
          ]
        }
      ],
      "source": [
        "if __name__ == '__main__':\n",
        "    main()"
      ]
    },
    {
      "cell_type": "markdown",
      "source": [
        "TODO:\n",
        "СДЕЛАТЬ ЗАПОЛНЕНИЕ ДАТ ОТ 1 января до даты по колву строк (для картинок, для валют не надо)"
      ],
      "metadata": {
        "id": "_3WUgj4ch2GR"
      }
    }
  ],
  "metadata": {
    "colab": {
      "provenance": []
    },
    "kernelspec": {
      "display_name": "Python 3",
      "name": "python3"
    },
    "language_info": {
      "name": "python"
    }
  },
  "nbformat": 4,
  "nbformat_minor": 0
}